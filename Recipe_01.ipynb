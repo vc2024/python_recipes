{
 "cells": [
  {
   "cell_type": "markdown",
   "id": "00af48ec",
   "metadata": {},
   "source": [
    "# Trick 1: List Comprehensions for Conciseness:"
   ]
  },
  {
   "cell_type": "code",
   "execution_count": 4,
   "id": "f5a7f9c9",
   "metadata": {},
   "outputs": [
    {
     "name": "stdout",
     "output_type": "stream",
     "text": [
      "[0, 1, 4, 9, 16, 25, 36, 49, 64, 81]\n",
      "[0, 1, 4, 9, 16, 25, 36, 49, 64, 81]\n"
     ]
    }
   ],
   "source": [
    "# Traditional way\n",
    "squares = []\n",
    "for i in range(10):\n",
    "    squares.append(i**2)\n",
    "print(squares)\n",
    "\n",
    "\n",
    "# Using list comprehension\n",
    "squares = [i**2 for i in range(10)]\n",
    "print(squares)"
   ]
  },
  {
   "cell_type": "markdown",
   "id": "0f24ee2a",
   "metadata": {},
   "source": [
    "# Trick 2: Multiple Assignments in One Line"
   ]
  },
  {
   "cell_type": "code",
   "execution_count": 6,
   "id": "91e33c3a",
   "metadata": {},
   "outputs": [
    {
     "name": "stdout",
     "output_type": "stream",
     "text": [
      "a -> 1 b -> 2\n",
      "a -> 1 b -> 2\n"
     ]
    }
   ],
   "source": [
    "# Traditional way\n",
    "a = 1\n",
    "b = 2\n",
    "print(f\"a -> {a} b -> {b}\")\n",
    "# Using multiple assignments\n",
    "a, b = 1, 2\n",
    "print(f\"a -> {a} b -> {b}\")\n"
   ]
  },
  {
   "cell_type": "markdown",
   "id": "dcb280ce",
   "metadata": {},
   "source": [
    "# Trick 3: Use of enumerate for Iterating with Index"
   ]
  },
  {
   "cell_type": "code",
   "execution_count": 8,
   "id": "04c83dcb",
   "metadata": {},
   "outputs": [
    {
     "name": "stdout",
     "output_type": "stream",
     "text": [
      "0 1\n",
      "1 2\n",
      "2 3\n",
      "3 4\n",
      "4 5\n",
      "0 1\n",
      "1 2\n",
      "2 3\n",
      "3 4\n",
      "4 5\n"
     ]
    }
   ],
   "source": [
    "my_list = [1,2,3,4,5]\n",
    "\n",
    "# Traditional way\n",
    "for i in range(len(my_list)):\n",
    "    print(i, my_list[i])\n",
    "\n",
    "# Using enumerate\n",
    "for i, item in enumerate(my_list):\n",
    "    print(i, item)\n"
   ]
  },
  {
   "cell_type": "markdown",
   "id": "55a5c04e",
   "metadata": {},
   "source": [
    "# Trick 4: Dictionary Comprehensions"
   ]
  },
  {
   "cell_type": "code",
   "execution_count": null,
   "id": "7f0c5bb0",
   "metadata": {},
   "outputs": [],
   "source": [
    "# Traditional way\n",
    "square_dict = {}\n",
    "for i in range(5):\n",
    "    square_dict[i] = i**2\n",
    "\n",
    "# Using dictionary comprehension\n",
    "square_dict = {i: i**2 for i in range(5)}\n"
   ]
  },
  {
   "cell_type": "markdown",
   "id": "e885a862",
   "metadata": {},
   "source": [
    "# Trick 5: Unpacking in Function Arguments"
   ]
  },
  {
   "cell_type": "code",
   "execution_count": 9,
   "id": "767944ce",
   "metadata": {},
   "outputs": [
    {
     "name": "stdout",
     "output_type": "stream",
     "text": [
      "1 2 3\n"
     ]
    }
   ],
   "source": [
    "# Traditional way\n",
    "def my_function(a, b, c):\n",
    "    print(a, b, c)\n",
    "\n",
    "values = [1, 2, 3]\n",
    "my_function(*values)\n"
   ]
  },
  {
   "cell_type": "markdown",
   "id": "398c23e5",
   "metadata": {},
   "source": [
    "# Trick 6: Conditional Assignment"
   ]
  },
  {
   "cell_type": "code",
   "execution_count": 13,
   "id": "845c22ed",
   "metadata": {},
   "outputs": [
    {
     "name": "stdout",
     "output_type": "stream",
     "text": [
      "1\n",
      "1\n"
     ]
    }
   ],
   "source": [
    "x = 1\n",
    "\n",
    "# Traditional way\n",
    "if x > 0:\n",
    "    y = 1\n",
    "else:\n",
    "    y = 0\n",
    "\n",
    "print(y)\n",
    "# Using conditional assignment\n",
    "y = 1 if x > 0 else 0\n",
    "\n",
    "print(y)"
   ]
  },
  {
   "cell_type": "markdown",
   "id": "6b3dc105",
   "metadata": {},
   "source": [
    "# Trick 7: Using zip for Parallel Iteration"
   ]
  },
  {
   "cell_type": "code",
   "execution_count": 14,
   "id": "8f90f4ee",
   "metadata": {},
   "outputs": [
    {
     "name": "stdout",
     "output_type": "stream",
     "text": [
      "Alice 25\n",
      "Bob 30\n",
      "Charlie 35\n"
     ]
    }
   ],
   "source": [
    "# Traditional way\n",
    "names = ['Alice', 'Bob', 'Charlie']\n",
    "ages = [25, 30, 35]\n",
    "for name, age in zip(names, ages):\n",
    "    print(name, age)\n"
   ]
  },
  {
   "cell_type": "markdown",
   "id": "b16ae75d",
   "metadata": {},
   "source": [
    "# Trick 8: F-strings for String Formatting"
   ]
  },
  {
   "cell_type": "code",
   "execution_count": 16,
   "id": "c22b8792",
   "metadata": {},
   "outputs": [
    {
     "name": "stdout",
     "output_type": "stream",
     "text": [
      "My name is Alice and I'm 25 years old\n",
      "My name is Alice and I'm 25 years old\n"
     ]
    }
   ],
   "source": [
    "name = \"Alice\"\n",
    "age = 25\n",
    "\n",
    "# Traditional way\n",
    "message = \"My name is {} and I'm {} years old\".format(name, age)\n",
    "print(message)\n",
    "\n",
    "# Using f-string\n",
    "message = f\"My name is {name} and I'm {age} years old\"\n",
    "print(message)"
   ]
  },
  {
   "cell_type": "markdown",
   "id": "df7bb9e0",
   "metadata": {},
   "source": [
    "# Trick 9: collections.Counter for Counting Elements"
   ]
  },
  {
   "cell_type": "code",
   "execution_count": 18,
   "id": "bae846b9",
   "metadata": {},
   "outputs": [
    {
     "name": "stdout",
     "output_type": "stream",
     "text": [
      "Counter({1: 3, 2: 2, 3: 2, 4: 1})\n"
     ]
    }
   ],
   "source": [
    "from collections import Counter\n",
    "\n",
    "my_list = [1, 2, 3, 1, 2, 1, 3, 4]\n",
    "counts = Counter(my_list)\n",
    "print(counts)"
   ]
  },
  {
   "cell_type": "markdown",
   "id": "9562937d",
   "metadata": {},
   "source": [
    "# Trick 10: Generator Expressions for Lazy Evaluation"
   ]
  },
  {
   "cell_type": "code",
   "execution_count": 22,
   "id": "2caa3310",
   "metadata": {},
   "outputs": [
    {
     "name": "stdout",
     "output_type": "stream",
     "text": [
      "[0, 1, 4, 9, 16, 25, 36, 49, 64, 81]\n",
      "0\n",
      "1\n",
      "4\n",
      "9\n",
      "16\n",
      "25\n",
      "36\n",
      "49\n",
      "64\n",
      "81\n"
     ]
    }
   ],
   "source": [
    "# Traditional way\n",
    "squares = []\n",
    "for i in range(10):\n",
    "    squares.append(i**2)\n",
    "\n",
    "print(squares)\n",
    "\n",
    "# Using generator expression\n",
    "squares = (i**2 for i in range(10))\n",
    "\n",
    "for item in squares:\n",
    "    print(item)"
   ]
  },
  {
   "cell_type": "code",
   "execution_count": null,
   "id": "2363595b",
   "metadata": {},
   "outputs": [],
   "source": []
  }
 ],
 "metadata": {
  "kernelspec": {
   "display_name": "Python 3 (ipykernel)",
   "language": "python",
   "name": "python3"
  },
  "language_info": {
   "codemirror_mode": {
    "name": "ipython",
    "version": 3
   },
   "file_extension": ".py",
   "mimetype": "text/x-python",
   "name": "python",
   "nbconvert_exporter": "python",
   "pygments_lexer": "ipython3",
   "version": "3.9.13"
  }
 },
 "nbformat": 4,
 "nbformat_minor": 5
}
